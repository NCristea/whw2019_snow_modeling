{
 "cells": [
  {
   "cell_type": "code",
   "execution_count": 1,
   "metadata": {},
   "outputs": [
    {
     "name": "stdout",
     "output_type": "stream",
     "text": [
      "Populating the interactive namespace from numpy and matplotlib\n"
     ]
    }
   ],
   "source": [
    "%pylab inline\n",
    "import xarray as xr\n",
    "import pandas as pd\n",
    "\n",
    "attrs = {\n",
    "   'airpres':  {'units': 'Pa', 'long_name': 'Air pressure'},\n",
    "   'airtemp':  {'units': 'K', 'long_name': 'Air temperature'},\n",
    "   'spechum':  {'units': 'g g-1', 'long_name': 'Specific humidity'},\n",
    "   'windspd':  {'units': 'Wind speed', 'long_name': 'm s-1'},\n",
    "   'SWRadAtm': {'units': 'W m-2', 'long_name': 'Downward shortwave radiation'},\n",
    "   'LWRadAtm': {'units': 'W m-2', 'long_name': 'Downward longwave radiation'},\n",
    "   'pptrate':  {'units': 'kg m-2 s-1', 'long_name': 'Precipitation rate'}}\n",
    "\n",
    "mpl.rcParams['figure.figsize'] = (18, 10)"
   ]
  },
  {
   "cell_type": "code",
   "execution_count": 2,
   "metadata": {},
   "outputs": [],
   "source": [
    "def spechum(rh, T, p):\n",
    "    T0 = 273.15\n",
    "    return rh * np.exp((17.67*(T-T0))/(T-29.65)) / (0.263*p)"
   ]
  },
  {
   "cell_type": "code",
   "execution_count": 3,
   "metadata": {},
   "outputs": [],
   "source": [
    "raw_p = pd.read_csv('../data/MHP2011to2017_SnowDepth_SWE_Precip.csv')\n",
    "bounds = pd.DatetimeIndex(\n",
    "    pd.date_range('2010/10/01', '2010/12/31', freq='H'), name='time')[1:-1]\n",
    "raw_p.index = pd.DatetimeIndex(raw_p['DateTime'], name='time')"
   ]
  },
  {
   "cell_type": "code",
   "execution_count": 4,
   "metadata": {},
   "outputs": [],
   "source": [
    "raw = pd.read_csv('../data/cues2011to2017_Radiation_Albedo_WindSpeed'\n",
    "                  '_GroundTemp_AirTemp_RH_AirPressure_SnowDepth_SWE.csv')\n",
    "raw.index = pd.DatetimeIndex(raw['DateTime'], name='time')\n",
    "# This has one less data step than raw_p\n",
    "raw = raw[:-1]"
   ]
  },
  {
   "cell_type": "code",
   "execution_count": 5,
   "metadata": {},
   "outputs": [],
   "source": [
    "lats = [45.30]\n",
    "lons = [5.77]\n",
    "elev = 1325.\n",
    "bounds = raw_p.index\n",
    "\n",
    "shape = (len(bounds), 1, )\n",
    "dims = ('time', 'hru', )\n",
    "coords = {'time': bounds}\n",
    "\n",
    "met_data = xr.Dataset(coords=coords)\n",
    "met_data.time.encoding['calendar'] = 'standard'\n",
    "met_data.time.encoding['units'] = 'hours since 1990-01-01'\n",
    "summa_vars = ['airpres', 'airtemp', 'spechum', \n",
    "              'windspd', 'SWRadAtm', 'LWRadAtm', 'pptrate']\n",
    "for varname in summa_vars:\n",
    "    met_data[varname] = xr.DataArray(data=np.full(shape, np.nan),\n",
    "                                     coords=coords, dims=dims,\n",
    "                                     name=varname, attrs=attrs[varname])"
   ]
  },
  {
   "cell_type": "code",
   "execution_count": 6,
   "metadata": {},
   "outputs": [],
   "source": [
    "met_data['airpres' ].loc[{'hru': 0}] = raw['AirPressure_mb'] * 100\n",
    "met_data['airtemp' ].loc[{'hru': 0}] = raw['AirTemp_C'] + 273.15\n",
    "met_data['windspd' ].loc[{'hru': 0}] = raw['wind_speed_meters_per_sec']\n",
    "met_data['SWRadAtm'].loc[{'hru': 0}] = raw['uplooking_broadband_watts_per_meterxx2']\n",
    "met_data['LWRadAtm'].loc[{'hru': 0}] = raw['uplooking_longwave_watts_per_meterxx2']\n",
    "met_data['pptrate' ].loc[{'hru': 0}] = raw_p['precip_cm_hr'] * 10 / 3600\n",
    "met_data['spechum' ].loc[{'hru': 0}] = spechum(raw['RH'] * 100, \n",
    "                                               raw['AirTemp_C'] + 273.15, \n",
    "                                               raw['AirPressure_mb'] * 100)"
   ]
  },
  {
   "cell_type": "code",
   "execution_count": 7,
   "metadata": {},
   "outputs": [
    {
     "ename": "FileNotFoundError",
     "evalue": "[Errno 2] No such file or directory: b'/pool0/data/andrbenn/workspace/whw2019_snow_modeling/notebooks/summa_setup_template/params/local_attributes.nc'",
     "output_type": "error",
     "traceback": [
      "\u001b[0;31m---------------------------------------------------------------------------\u001b[0m",
      "\u001b[0;31mFileNotFoundError\u001b[0m                         Traceback (most recent call last)",
      "\u001b[0;32m<ipython-input-7-92e9807be09d>\u001b[0m in \u001b[0;36m<module>\u001b[0;34m\u001b[0m\n\u001b[0;32m----> 1\u001b[0;31m \u001b[0mds_local_attrs\u001b[0m \u001b[0;34m=\u001b[0m \u001b[0mxr\u001b[0m\u001b[0;34m.\u001b[0m\u001b[0mopen_dataset\u001b[0m\u001b[0;34m(\u001b[0m\u001b[0;34m'./summa_setup_template/params/local_attributes.nc'\u001b[0m\u001b[0;34m)\u001b[0m\u001b[0;34m\u001b[0m\u001b[0;34m\u001b[0m\u001b[0m\n\u001b[0m\u001b[1;32m      2\u001b[0m \u001b[0mds_template\u001b[0m \u001b[0;34m=\u001b[0m \u001b[0mxr\u001b[0m\u001b[0;34m.\u001b[0m\u001b[0mopen_dataset\u001b[0m\u001b[0;34m(\u001b[0m\u001b[0;34m'./CUES/cues_2016_summa_setup/forcings/cues2016.nc'\u001b[0m\u001b[0;34m)\u001b[0m\u001b[0;34m\u001b[0m\u001b[0;34m\u001b[0m\u001b[0m\n\u001b[1;32m      3\u001b[0m \u001b[0mmet_data\u001b[0m\u001b[0;34m[\u001b[0m\u001b[0;34m'hruId'\u001b[0m\u001b[0;34m]\u001b[0m \u001b[0;34m=\u001b[0m \u001b[0mds_local_attrs\u001b[0m\u001b[0;34m[\u001b[0m\u001b[0;34m'hruId'\u001b[0m\u001b[0;34m]\u001b[0m\u001b[0;34m\u001b[0m\u001b[0;34m\u001b[0m\u001b[0m\n\u001b[1;32m      4\u001b[0m \u001b[0mmet_data\u001b[0m\u001b[0;34m[\u001b[0m\u001b[0;34m'latitude'\u001b[0m\u001b[0;34m]\u001b[0m \u001b[0;34m=\u001b[0m \u001b[0mds_local_attrs\u001b[0m\u001b[0;34m[\u001b[0m\u001b[0;34m'latitude'\u001b[0m\u001b[0;34m]\u001b[0m\u001b[0;34m\u001b[0m\u001b[0;34m\u001b[0m\u001b[0m\n\u001b[1;32m      5\u001b[0m \u001b[0mmet_data\u001b[0m\u001b[0;34m[\u001b[0m\u001b[0;34m'longitude'\u001b[0m\u001b[0;34m]\u001b[0m \u001b[0;34m=\u001b[0m \u001b[0mds_local_attrs\u001b[0m\u001b[0;34m[\u001b[0m\u001b[0;34m'longitude'\u001b[0m\u001b[0;34m]\u001b[0m\u001b[0;34m\u001b[0m\u001b[0;34m\u001b[0m\u001b[0m\n",
      "\u001b[0;32m/pool0/data/andrbenn/.conda/all/lib/python3.6/site-packages/xarray/backends/api.py\u001b[0m in \u001b[0;36mopen_dataset\u001b[0;34m(filename_or_obj, group, decode_cf, mask_and_scale, decode_times, autoclose, concat_characters, decode_coords, engine, chunks, lock, cache, drop_variables, backend_kwargs)\u001b[0m\n\u001b[1;32m    318\u001b[0m                                                    \u001b[0mgroup\u001b[0m\u001b[0;34m=\u001b[0m\u001b[0mgroup\u001b[0m\u001b[0;34m,\u001b[0m\u001b[0;34m\u001b[0m\u001b[0;34m\u001b[0m\u001b[0m\n\u001b[1;32m    319\u001b[0m                                                    \u001b[0mautoclose\u001b[0m\u001b[0;34m=\u001b[0m\u001b[0mautoclose\u001b[0m\u001b[0;34m,\u001b[0m\u001b[0;34m\u001b[0m\u001b[0;34m\u001b[0m\u001b[0m\n\u001b[0;32m--> 320\u001b[0;31m                                                    **backend_kwargs)\n\u001b[0m\u001b[1;32m    321\u001b[0m         \u001b[0;32melif\u001b[0m \u001b[0mengine\u001b[0m \u001b[0;34m==\u001b[0m \u001b[0;34m'scipy'\u001b[0m\u001b[0;34m:\u001b[0m\u001b[0;34m\u001b[0m\u001b[0;34m\u001b[0m\u001b[0m\n\u001b[1;32m    322\u001b[0m             store = backends.ScipyDataStore(filename_or_obj,\n",
      "\u001b[0;32m/pool0/data/andrbenn/.conda/all/lib/python3.6/site-packages/xarray/backends/netCDF4_.py\u001b[0m in \u001b[0;36mopen\u001b[0;34m(cls, filename, mode, format, group, writer, clobber, diskless, persist, autoclose, lock)\u001b[0m\n\u001b[1;32m    329\u001b[0m                                    \u001b[0mdiskless\u001b[0m\u001b[0;34m=\u001b[0m\u001b[0mdiskless\u001b[0m\u001b[0;34m,\u001b[0m \u001b[0mpersist\u001b[0m\u001b[0;34m=\u001b[0m\u001b[0mpersist\u001b[0m\u001b[0;34m,\u001b[0m\u001b[0;34m\u001b[0m\u001b[0;34m\u001b[0m\u001b[0m\n\u001b[1;32m    330\u001b[0m                                    format=format)\n\u001b[0;32m--> 331\u001b[0;31m         \u001b[0mds\u001b[0m \u001b[0;34m=\u001b[0m \u001b[0mopener\u001b[0m\u001b[0;34m(\u001b[0m\u001b[0;34m)\u001b[0m\u001b[0;34m\u001b[0m\u001b[0;34m\u001b[0m\u001b[0m\n\u001b[0m\u001b[1;32m    332\u001b[0m         return cls(ds, mode=mode, writer=writer, opener=opener,\n\u001b[1;32m    333\u001b[0m                    autoclose=autoclose, lock=lock)\n",
      "\u001b[0;32m/pool0/data/andrbenn/.conda/all/lib/python3.6/site-packages/xarray/backends/netCDF4_.py\u001b[0m in \u001b[0;36m_open_netcdf4_group\u001b[0;34m(filename, mode, group, **kwargs)\u001b[0m\n\u001b[1;32m    228\u001b[0m     \u001b[0;32mimport\u001b[0m \u001b[0mnetCDF4\u001b[0m \u001b[0;32mas\u001b[0m \u001b[0mnc4\u001b[0m\u001b[0;34m\u001b[0m\u001b[0;34m\u001b[0m\u001b[0m\n\u001b[1;32m    229\u001b[0m \u001b[0;34m\u001b[0m\u001b[0m\n\u001b[0;32m--> 230\u001b[0;31m     \u001b[0mds\u001b[0m \u001b[0;34m=\u001b[0m \u001b[0mnc4\u001b[0m\u001b[0;34m.\u001b[0m\u001b[0mDataset\u001b[0m\u001b[0;34m(\u001b[0m\u001b[0mfilename\u001b[0m\u001b[0;34m,\u001b[0m \u001b[0mmode\u001b[0m\u001b[0;34m=\u001b[0m\u001b[0mmode\u001b[0m\u001b[0;34m,\u001b[0m \u001b[0;34m**\u001b[0m\u001b[0mkwargs\u001b[0m\u001b[0;34m)\u001b[0m\u001b[0;34m\u001b[0m\u001b[0;34m\u001b[0m\u001b[0m\n\u001b[0m\u001b[1;32m    231\u001b[0m \u001b[0;34m\u001b[0m\u001b[0m\n\u001b[1;32m    232\u001b[0m     \u001b[0;32mwith\u001b[0m \u001b[0mclose_on_error\u001b[0m\u001b[0;34m(\u001b[0m\u001b[0mds\u001b[0m\u001b[0;34m)\u001b[0m\u001b[0;34m:\u001b[0m\u001b[0;34m\u001b[0m\u001b[0;34m\u001b[0m\u001b[0m\n",
      "\u001b[0;32mnetCDF4/_netCDF4.pyx\u001b[0m in \u001b[0;36mnetCDF4._netCDF4.Dataset.__init__\u001b[0;34m()\u001b[0m\n",
      "\u001b[0;32mnetCDF4/_netCDF4.pyx\u001b[0m in \u001b[0;36mnetCDF4._netCDF4._ensure_nc_success\u001b[0;34m()\u001b[0m\n",
      "\u001b[0;31mFileNotFoundError\u001b[0m: [Errno 2] No such file or directory: b'/pool0/data/andrbenn/workspace/whw2019_snow_modeling/notebooks/summa_setup_template/params/local_attributes.nc'"
     ]
    }
   ],
   "source": [
    "ds_local_attrs = xr.open_dataset('./summa_setup_template/params/local_attributes.nc')\n",
    "ds_template = xr.open_dataset('./CUES/cues_2016_summa_setup/forcings/cues2016.nc')\n",
    "met_data['hruId'] = ds_local_attrs['hruId']\n",
    "met_data['latitude'] = ds_local_attrs['latitude']\n",
    "met_data['longitude'] = ds_local_attrs['longitude']\n",
    "met_data['data_step'] = [3600.]"
   ]
  },
  {
   "cell_type": "code",
   "execution_count": null,
   "metadata": {},
   "outputs": [],
   "source": [
    "met_data.to_netcdf('../data/cues_2011-2017.nc')\n",
    "met_data"
   ]
  },
  {
   "cell_type": "code",
   "execution_count": null,
   "metadata": {},
   "outputs": [],
   "source": []
  }
 ],
 "metadata": {
  "kernelspec": {
   "display_name": "all",
   "language": "python",
   "name": "all"
  },
  "language_info": {
   "codemirror_mode": {
    "name": "ipython",
    "version": 3
   },
   "file_extension": ".py",
   "mimetype": "text/x-python",
   "name": "python",
   "nbconvert_exporter": "python",
   "pygments_lexer": "ipython3",
   "version": "3.6.8"
  }
 },
 "nbformat": 4,
 "nbformat_minor": 2
}
